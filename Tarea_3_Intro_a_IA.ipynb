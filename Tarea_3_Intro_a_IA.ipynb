{
  "cells": [
    {
      "cell_type": "markdown",
      "metadata": {
        "id": "view-in-github",
        "colab_type": "text"
      },
      "source": [
        "<a href=\"https://colab.research.google.com/github/tiffahana/homework3introtoai/blob/main/Tarea_3_Intro_a_IA.ipynb\" target=\"_parent\"><img src=\"https://colab.research.google.com/assets/colab-badge.svg\" alt=\"Open In Colab\"/></a>"
      ]
    },
    {
      "cell_type": "markdown",
      "source": [
        "# Universidad de O'Higgins\n",
        "\n",
        "## Escuela de Ingeniería\n",
        "## COM4402: Introducción a Inteligencia Artificial\n",
        "\n",
        "### **Tarea 3: Redes Neuronales Convolucionales**\n",
        "\n",
        "### Estudiante: Daniela Salinas\n",
        "\n",
        "El objetivo de esta tarea es implementar una Red Neuronal Convolucional que logre clasificar los labels correspondientes a la base de datos de manuscritos MNIST y la base de datos de imágenes pequeñas CIFAR-10. La tarea debe ser realizada en Python usando TensorFlow."
      ],
      "metadata": {
        "id": "sOEWO7Nj2up4"
      }
    },
    {
      "cell_type": "code",
      "execution_count": 1,
      "metadata": {
        "id": "YBcJvhzbktIK"
      },
      "outputs": [],
      "source": [
        "\"\"\"Esta area configura el entorno Jupyter.\n",
        "Por favor, no modifique nada en esta celda.\n",
        "\"\"\"\n",
        "import os\n",
        "import sys\n",
        "import time\n",
        "\n",
        "# Importar módulos diversos\n",
        "from IPython.core.display import display, HTML"
      ]
    },
    {
      "cell_type": "code",
      "source": [
        "import os\n",
        "import numpy as np\n",
        "import tensorflow as tf\n",
        "import random\n",
        "from unittest.mock import MagicMock\n",
        "\n",
        "\n",
        "def _print_success_message():\n",
        "    print('Pruebas superadas.')\n",
        "    print('Puede pasar a la siguiente tarea.')\n",
        "\n",
        "def test_normalize_images(function):\n",
        "    test_numbers = np.array([0,127,255])\n",
        "    OUT = function(test_numbers)\n",
        "    test_shape = test_numbers.shape\n",
        "\n",
        "    assert type(OUT).__module__ == np.__name__,\\\n",
        "        'Not Numpy Object'\n",
        "\n",
        "    assert OUT.shape == test_shape,\\\n",
        "        'Incorrect Shape. {} shape found'.format(OUT.shape)\n",
        "    np.testing.assert_almost_equal(test_numbers/255, OUT)\n",
        "\n",
        "    _print_success_message()\n",
        "\n",
        "def test_one_hot(function):\n",
        "    test_numbers = np.arange(10)\n",
        "    number_classes = 10\n",
        "    OUT = function(test_numbers,number_classes)\n",
        "\n",
        "    awns = np.identity(number_classes)\n",
        "    test_shape = awns.shape\n",
        "\n",
        "    assert type(OUT).__module__ == np.__name__,\\\n",
        "        'Not Numpy Object'\n",
        "\n",
        "    assert OUT.shape == test_shape,\\\n",
        "        'Incorrect Shape. {} shape found'.format(OUT.shape)\n",
        "    np.testing.assert_almost_equal(awns, OUT)\n",
        "\n",
        "    _print_success_message()"
      ],
      "metadata": {
        "id": "qJT769UKlMMl"
      },
      "execution_count": 2,
      "outputs": []
    },
    {
      "cell_type": "markdown",
      "metadata": {
        "id": "a6Nu6sG6ktIM"
      },
      "source": [
        "# Convolutional Neural Networks\n",
        "\n",
        "<div class=\"alert alert-warning\">\n",
        "En este notebook nos familiarizaremos con un tipo de *capa* para redes neuronales artificiales llamadas capas convolucionales. Los datos que intentaremos modelar utilizando este tipo de redes serán imágenes.\n",
        "</div>\n",
        "\n",
        "\n",
        "## Imágenes\n",
        "\n",
        "Para un computador, una imagen es una matriz de datos en la que cada píxel está representado por uno o varios valores:\n",
        "\n",
        "\n",
        "### Matriz con un valor por píxel = imágenes en escala de grises\n",
        "\n",
        "<img src=\"https://www.researchgate.net/publication/330902210/figure/fig1/AS:878026619375622@1586349267376/mage-of-Abraham-Lincoln-as-a-matrix-of-pixel-values.ppm\" alt=\"Grayscale Image\" width=\"700\">[image_source](http://openframeworks.cc/ofBook/chapters/image_processing_computer_vision.html)\n",
        "\n",
        "### Matriz con tres valores por píxel = imágenes en color\n",
        " <img src=\"https://raw.githubusercontent.com/vicolab/neural-network-intro/master/3-convnet/resources/color_images.png\" alt=\"Decomposition of a color image\" width=\"400\">[image_source](https://medium.com/@ageitgey/machine-learning-is-fun-part-3-deep-learning-and-convolutional-neural-networks-f40359318721)"
      ]
    },
    {
      "cell_type": "markdown",
      "metadata": {
        "id": "Dq3kGC3qktIN"
      },
      "source": [
        "# El Dataset MNIST\n",
        "\n",
        "La base de datos MNIST (Modified National Institute of Standards and Technology database) es un problema de clasificación multiclase en el que se nos pide que clasifiquemos un dígito ($0-9$) a partir de una imagen en escala de grises de $28\\times 28$:\n",
        "\n",
        ">La base de datos MNIST de dígitos escritos a mano, disponible en esta página, tiene un conjunto de entrenamiento de 60.000 ejemplos y un conjunto de prueba de 10.000 ejemplos. Es un subconjunto de un conjunto más amplio disponible en NIST. Los dígitos han sido normalizados en tamaño y centrados en una imagen de tamaño fijo.\n",
        "\n",
        ">Es una buena base de datos para las personas que quieren probar técnicas de aprendizaje y métodos de reconocimiento de patrones en datos del mundo real, dedicando un esfuerzo mínimo al preprocesamiento y al formateo.\n",
        "\n",
        "[Fuente](https://www.tensorflow.org/datasets/catalog/mnist?hl=es-419)\n",
        "\n",
        "En el siguiente ejemplo cargaremos datos de MNIST.\n",
        "\n",
        "* **input** $\\rightarrow$ 70000 muestras de vectores\n",
        "    * Cada vector tiene 784 dimensiones\n",
        "    * Aquí se presentan como matrices de $28\\times 28$ $\\rightarrow$ Imágenes en escala de grises\n",
        "* **target** $\\rightarrow$ 70000 enteros que indican un dígito de 0 a 9\n",
        "\n",
        "<div class=\"alert alert-info\">\n",
        "<strong>En el siguiente fragmento de código:</strong>\n",
        "<ul>\n",
        "  <li>Cargaremos la base de datos MNIST</li>\n",
        "  <li>Graficaremos la 5ª muestra del conjunto de entrenamiento</li>\n",
        "</ul>\n",
        "</div>"
      ]
    },
    {
      "cell_type": "code",
      "execution_count": 3,
      "metadata": {
        "id": "cR69OkjKktIN",
        "colab": {
          "base_uri": "https://localhost:8080/",
          "height": 691
        },
        "outputId": "43c3f8eb-3da2-4c71-e3d5-8873d923a4a5"
      },
      "outputs": [
        {
          "output_type": "stream",
          "name": "stdout",
          "text": [
            "Shape of x_train (60000, 28, 28)\n",
            "Shape of y_train (60000,)\n",
            "Shape of x_test (60000, 28, 28)\n",
            "Shape of y_test (60000,)\n"
          ]
        },
        {
          "output_type": "display_data",
          "data": {
            "text/plain": [
              "<Figure size 700x700 with 1 Axes>"
            ],
            "image/png": "[encoded data removed]"
          },
          "metadata": {}
        }
      ],
      "source": [
        "# Los gráficos se mostrarán dentro del Jupyter Notebook\n",
        "import matplotlib.pyplot as plt\n",
        "from matplotlib.ticker import MaxNLocator\n",
        "import time\n",
        "\n",
        "# NumPy es un paquete para manipular objetos de matriz de N dimensiones\n",
        "import numpy as np\n",
        "\n",
        "# Pandas es un paquete de análisis de datos\n",
        "import pandas as pd\n",
        "\n",
        "# Mnist wrapper\n",
        "from keras.datasets import mnist\n",
        "\n",
        "# Código para cargar la base de datos MNIST\n",
        "(x_train, y_train), (x_test, y_test) = mnist.load_data()\n",
        "\n",
        "# Imprimir la dimensionalidad de los datos\n",
        "print('Shape of x_train {}'.format(x_train.shape))\n",
        "print('Shape of y_train {}'.format(y_train.shape))\n",
        "print('Shape of x_test {}'.format(x_train.shape))\n",
        "print('Shape of y_test {}'.format(y_train.shape))\n",
        "\n",
        "\n",
        "# Código para graficar la 5ª muestra del conjunto de entrenamiento\n",
        "fig,ax1 = plt.subplots(1,1, figsize=(7, 7))\n",
        "\n",
        "ax1.imshow(x_train[5], cmap='gray')\n",
        "title = 'Target = {}'.format(y_train[5])\n",
        "ax1.set_title(title)\n",
        "ax1.grid(which='Major')\n",
        "ax1.xaxis.set_major_locator(MaxNLocator(28))\n",
        "ax1.yaxis.set_major_locator(MaxNLocator(28))\n",
        "fig.canvas.draw()\n",
        "time.sleep(0.1)"
      ]
    },
    {
      "cell_type": "markdown",
      "metadata": {
        "id": "8-EWrj3AktIO"
      },
      "source": [
        "## Preprocesamiento de datos\n",
        "\n",
        "Antes de empezar a clasificar los dígitos, tenemos que preprocesar los datos.\n",
        "\n",
        "La primera tarea es crear una función que normalice las imágenes de 8 bits de [0,255] a [0,1]:\n",
        "\n",
        "\n",
        "### Parte I:  Implementar una Función de Normalización de Imágenes\n",
        "<div class=\"alert alert-success\">\n",
        "**Tarea**: Implementar una función que normalice las imágenes al intervalo [0,1].\n",
        "<ul>\n",
        "  <li>Las entradas son números enteros en el intervalo [0,255]</li>\n",
        "  <li>Las salidas deben ser flotantes en el intervalo [0,1]</li>\n",
        "</ul>\n",
        "</div>"
      ]
    },
    {
      "cell_type": "code",
      "execution_count": 4,
      "metadata": {
        "id": "kWPxDG9TktIO",
        "colab": {
          "base_uri": "https://localhost:8080/"
        },
        "outputId": "f5c8068e-154f-43a7-eaa9-a6691976a9de"
      },
      "outputs": [
        {
          "output_type": "stream",
          "name": "stdout",
          "text": [
            "Pruebas superadas.\n",
            "Puede pasar a la siguiente tarea.\n"
          ]
        }
      ],
      "source": [
        "def normalize_images(images):\n",
        "    \"\"\"Normalizar las imágenes de entrada.\n",
        "    \"\"\"\n",
        "    # Normalizar la imagen dividiendo cada píxel por 255 y redondear\n",
        "    images = images / 255.0\n",
        "    images = np.round(images, decimals=7)\n",
        "\n",
        "    return images\n",
        "\n",
        "### *No* modificar las siguientes líneas ###\n",
        "test_normalize_images(normalize_images)\n",
        "\n",
        "# Normalizar los datos para su uso futuro\n",
        "x_train = normalize_images(x_train)\n",
        "x_test = normalize_images(x_test)"
      ]
    },
    {
      "cell_type": "markdown",
      "metadata": {
        "id": "clwDIT2lktIO"
      },
      "source": [
        "### Parte II:  Ampliar la dimensión de la entrada\n",
        "\n",
        "Cuando cargamos el conjunto de datos MNIST, cada dígito estaba representado por una matriz de tamaño $(28, 28)$. Sin embargo, la red neuronal artificial que vamos a construir utiliza el concepto de canales de color y mapas de características incluso para las imágenes en escala de grises. Esto significa que tenemos que transformar $(28, 28)$ en $(28, 28, 1)$.\n",
        "\n",
        "<div class=\"alert alert-success\">\n",
        "**Tarea**: Escribir una pieza de código que añada una nueva dimensión a `x_train` y `x_test`.\n",
        "<ul>\n",
        "  <li>La dimensionalidad de `x_train` debe ser $(60000, 28, 28, 1)$</li>\n",
        "  <li>La dimensionalidad de `x_test` debe ser $(10000, 28, 28, 1)$</li>\n",
        "</ul>\n",
        "    \n",
        "Echa un vistazo en [numpy.expand_dims()](https://docs.scipy.org/doc/numpy/reference/generated/numpy.expand_dims.html) para saber cómo se puede hacer esto.   \n",
        "</div>"
      ]
    },
    {
      "cell_type": "code",
      "execution_count": 5,
      "metadata": {
        "id": "5icwJcPpktIP",
        "colab": {
          "base_uri": "https://localhost:8080/"
        },
        "outputId": "64051e71-9dc4-40f4-d55d-d867f28e2223"
      },
      "outputs": [
        {
          "output_type": "stream",
          "name": "stdout",
          "text": [
            "Shape of x_train (60000, 28, 28, 1)\n",
            "Shape of y_train (60000,)\n",
            "Shape of x_test (10000, 28, 28, 1)\n",
            "Shape of y_test (10000,)\n"
          ]
        }
      ],
      "source": [
        "# Escribe aquí tu código\n",
        "x_train = np.expand_dims(x_train, axis=-1)\n",
        "x_test = np.expand_dims(x_test, axis=-1)\n",
        "\n",
        "### *No* modifique las siguientes lineas ###\n",
        "print('Shape of x_train {}'.format(x_train.shape))\n",
        "print('Shape of y_train {}'.format(y_train.shape))\n",
        "print('Shape of x_test {}'.format(x_test.shape))\n",
        "print('Shape of y_test {}'.format(y_test.shape))"
      ]
    },
    {
      "cell_type": "markdown",
      "metadata": {
        "id": "1Bzxb7huktIP"
      },
      "source": [
        "## Preprocesamiento de los labels\n",
        "\n",
        "Para clasificar nuestros dígitos tenemos que utilizar one-hot encoding para representar las salidas de los objetivos. One-hot encoding es una solución robusta y sencilla para representar objetivos multicategóricos.\n",
        "\n",
        "Esta codificación es una representación ideal para entrenar un modelo mediante el algoritmo de descenso de gradiente con la [función softmax](http://www.cs.toronto.edu/~guerzhoy/321/lec/W04/onehot.pdf).\n",
        "\n",
        "### Ejemplo de one-hot encoding\n",
        "\n",
        "Este es un ejemplo de cómo es un esquema de one-hot encoding:\n",
        "\n",
        "$$\n",
        "\\begin{equation*}\n",
        "\\mathbf{y} =\n",
        "\\left[ \\begin{array}{c} 2 \\\\ 8 \\\\ 0 \\\\ 6 \\\\ \\vdots\\end{array} \\right]\n",
        "\\Longrightarrow\n",
        "\\begin{bmatrix}\n",
        "  0 & 0 & 1 & 0 & 0 & 0 & 0 & 0 & 0 & 0\\\\\n",
        "  0 & 0 & 0 & 0 & 0 & 0 & 0 & 0 & 1 & 0\\\\\n",
        "  1 & 0 & 0 & 0 & 0 & 0 & 0 & 0 & 0 & 0\\\\\n",
        "  0 & 0 & 0 & 0 & 0 & 0 & 1 & 0 & 0 & 0\\\\\n",
        "  \\vdots & \\vdots & \\vdots & \\vdots & \\vdots & \\vdots & \\vdots & \\vdots & \\vdots & \\vdots\n",
        "\\end{bmatrix}\n",
        "\\end{equation*}\n",
        "$$\n",
        "\n",
        "En el lado izquierdo tenemos un vector de etiquetas objetivo $\\mathbf{y}$ con $K=10$ número de clases. En el lado derecho podemos ver la versión codificada one-hot del vector $\\mathbf{y}$ donde cada elemento $\\in \\mathbf{y}$ se ha transformado en un vector de filas $K$-dimensional. Sólo el elemento $\\mathbf{y}_i$ se ha fijado en 1, el resto son 0. Por ejemplo, el primer elemento de $\\mathbf{y}$ es 2, lo que significa que el vector codificado en un punto será todo ceros excepto la posición 2 (indexación 0). Del mismo modo, el tercer elemento de $\\mathbf{y}$ es 0, lo que significa que el vector codificado one-hot será todos los ceros a excepción de la posición 0.\n",
        "\n",
        "La idea central es transformar los datos multicategóricos en una combinación de varias clases simples. Al hacer esto podemos, para cada ejemplo, ver si pertenece a alguna clase, donde 1 indica que sí y 0 en caso contrario.\n",
        "\n",
        "\n",
        "### Parte 3:  Implemente una función para One-Hot Encoding\n",
        "\n",
        "<div class=\"alert alert-success\">\n",
        "**Tarea**: Implementar una función que codifique un vector de números en una matriz de $K$ clases:\n",
        "<ul>\n",
        "  <li>El primer argumento es un vector con $N$ muestras (dimensiones)</li>\n",
        "  <li>El segundo argumento es un número $K$ que significa el número de clases</li>\n",
        "  <li>Para cada muestra del vector se creará un array con $K$ dimensiones</li>\n",
        "  <li>La matriz codificada one-hot debe tener ceros en todas las posiciones excepto en la posición indicada por la muestra actual en el vector de entrada</li>\n",
        "</ul>\n",
        "</div>\n",
        "\n",
        "* Intenta implementar esta función por ti mismo. Si tienes dudas, pide ayuda\n",
        "* Si te quedas sin tiempo, utiliza `keras.utils.to_categorical(vector, number_classes)`"
      ]
    },
    {
      "cell_type": "code",
      "execution_count": 6,
      "metadata": {
        "id": "VyL7tvVKktIP",
        "colab": {
          "base_uri": "https://localhost:8080/"
        },
        "outputId": "022b2138-3674-49a9-d3fe-0821aec953c4"
      },
      "outputs": [
        {
          "output_type": "stream",
          "name": "stdout",
          "text": [
            "Pruebas superadas.\n",
            "Puede pasar a la siguiente tarea.\n"
          ]
        }
      ],
      "source": [
        "def one_hot(vector, number_classes):\n",
        "    \"\"\"Devuelve una matriz codificada one-hot dado el vector argumento.\n",
        "    \"\"\"\n",
        "    # Aquí almacenaremos nuestros one-hots\n",
        "    one_hot = []\n",
        "\n",
        "    # Aquí se codifica el 'vector' one-hot\n",
        "    for i in vector:\n",
        "      one_hot_item = np.zeros(number_classes)\n",
        "      one_hot_item[i] = 1\n",
        "      one_hot.append(one_hot_item)\n",
        "\n",
        "    # Transformar la lista en una matriz numpy y retornarla\n",
        "    return np.array(one_hot)\n",
        "\n",
        "\n",
        "### *No* modifique las siguientes lineas ###\n",
        "test_one_hot(one_hot)\n",
        "\n",
        "# One-hot codifica los labels de MNIST\n",
        "y_train = one_hot(y_train, 10)\n",
        "y_test = one_hot(y_test, 10)"
      ]
    },
    {
      "cell_type": "markdown",
      "metadata": {
        "id": "9otf8JgRktIQ"
      },
      "source": [
        "Ahora que hemos añadido una dimensión adicional a los datos de entrada y que hemos codificado los valores objetivo como one-hot, vamos a ver las formas de las matrices de datos."
      ]
    },
    {
      "cell_type": "code",
      "execution_count": 7,
      "metadata": {
        "id": "uq2sjafMktIQ",
        "colab": {
          "base_uri": "https://localhost:8080/"
        },
        "outputId": "6f12e637-5700-4603-c98c-9d8bff245126"
      },
      "outputs": [
        {
          "output_type": "stream",
          "name": "stdout",
          "text": [
            "Shape of x_train (60000, 28, 28, 1)\n",
            "Shape of y_train (60000, 10)\n",
            "Shape of x_test (60000, 28, 28, 1)\n",
            "Shape of y_test (60000, 10)\n"
          ]
        }
      ],
      "source": [
        "print('Shape of x_train {}'.format(x_train.shape))\n",
        "print('Shape of y_train {}'.format(y_train.shape))\n",
        "print('Shape of x_test {}'.format(x_train.shape))\n",
        "print('Shape of y_test {}'.format(y_train.shape))"
      ]
    },
    {
      "cell_type": "markdown",
      "metadata": {
        "id": "2STrOaQAktIQ"
      },
      "source": [
        "# Construir una Red Neuronal Artificial con Convoluciones y Max-Pooling\n",
        "\n",
        "\n",
        "## Convoluciones\n",
        "\n",
        "Si tienes un clasificador que consiste en reconocer gatos en una imagen, es posible que se quiera reconocer/clasificar al animal independientemente de su posición. Para ello, nos basamos en un hecho estadístico: las imágenes naturales son estacionarias [source](http://deeplearning.stanford.edu/wiki/index.php/Feature_extraction_using_convolution).\n",
        "\n",
        "Por lo tanto, si calculamos una estadística para algún lugar de la imagen de entrada, entonces esa estadística también podría ser valiosa para calcularla en algún otro lugar. Se puede aprovechar esta propiedad para definir pequeñas redes que aprendan características que puedan aplicarse a diferentes partes de una imagen.\n",
        "\n",
        "Las redes neuronales convolucionales emplean estos aspectos para crear redes neuronales muy eficaces.\n",
        "\n",
        "Si quiere ver un vídeo corto (con subtítulos) que explica los conceptos de las redes convolucionales, consulte el siguiente enlace de YouTube:\n",
        "\n",
        "* [Udacity - Convolutional Networks](https://www.youtube.com/watch?v=jajksuQW4mc)"
      ]
    },
    {
      "cell_type": "markdown",
      "metadata": {
        "id": "WfLmBUIfktIQ"
      },
      "source": [
        "### Sliding windows (ventanas deslizantes)\n",
        "\n",
        "Una ventana deslizante define una pequeña región de interés en una imagen.\n",
        "\n",
        "La región de interés se utiliza para escanear toda la imagen, como se muestra en la siguiente animación:\n",
        "\n",
        "<img src=\"https://pyimagesearch.com/wp-content/uploads/2014/10/sliding_window_example.gif\" alt=\"Sliding window on a greyscale image\" width=\"200\">\n",
        "\n",
        "\n",
        "Si utilizamos la ventana deslizante para definir cuál es la entrada que ve una pequeña red neuronal, tenemos la llamada convolución.\n",
        "\n",
        "\n",
        "Suponiendo que tenemos una imagen en color, y una pequeña red neuronal con $k$ salidas: para cada posición posible de la ventana deslizante tendremos $k$ salidas.\n",
        "\n",
        "\n",
        "<img src=\"https://raw.githubusercontent.com/vicolab/neural-network-intro/master/3-convnet/resources/conv.png\" alt=\"Output of a convolution at for a given sliding window placement\" width=\"300\">\n",
        "\n",
        "\n",
        "Una vez que la ventana deslizante ha escaneado toda la imagen, se obtiene una matriz tridimensional que puede investigarse más a fondo.\n",
        "\n",
        "\n",
        "<img src=\"https://raw.githubusercontent.com/vicolab/neural-network-intro/master/3-convnet/resources/conv2.png\" alt=\"Output of a convolution at for a given sliding window placement\" width=\"300\">"
      ]
    },
    {
      "cell_type": "markdown",
      "metadata": {
        "collapsed": true,
        "id": "W6aaCNSRktIQ"
      },
      "source": [
        "### Ejemplo de Convolución\n",
        "\n",
        "\n",
        "Supongamos que tenemos una imagen de $5 \\times 5=25$ píxeles:\n",
        "\n",
        "$$\n",
        "\\begin{equation*}\n",
        "\\begin{array}{|c|c|c|c|c|}\n",
        "  \\hline\n",
        "  1 & 1 & 1 & 0 & 0 \\\\\n",
        "  \\hline\n",
        "  0 & 1 & 1 & 1 & 0\\\\\n",
        "  \\hline\n",
        "  0 & 0 & 1 & 1 & 1\\\\\n",
        "  \\hline\n",
        "  0 & 0 & 1 & 1 & 0\\\\\n",
        "  \\hline\n",
        "  0 & 1 & 1 & 0 & 0\\\\\n",
        "  \\hline\n",
        "\\end{array}\n",
        "\\end{equation*}\n",
        "$$\n",
        "\n",
        "Supongamos que definimos una pequeña red neuronal que tiene pesos de $3 \\times 3$ y una única salida.\n",
        "La matriz de pesos es\n",
        "\n",
        "$$\n",
        "\\begin{equation*}\n",
        "\\begin{array}{|c|c|c|}\n",
        "  \\hline\n",
        "  1 & 0 & 1 \\\\\n",
        "  \\hline\n",
        "  0 & 1 & 0\\\\\n",
        "  \\hline\n",
        "  1 & 0 & 1\\\\\n",
        "  \\hline\n",
        "\\end{array}\n",
        "\\end{equation*}\n",
        "$$\n",
        "\n",
        "Al alimentar la red utilizando una ventana deslizante de $3 \\times 3$ obtenemos las siguientes características convolucionadas (también conocidas como mapa de características):\n",
        "\n",
        "$$\n",
        "\\begin{equation*}\n",
        "\\begin{array}{|c|c|c|}\n",
        "  \\hline\n",
        "  4 & 3 & 4 \\\\\n",
        "  \\hline\n",
        "  2 & 4 & 3\\\\\n",
        "  \\hline\n",
        "  2 & 3 & 4\\\\\n",
        "  \\hline\n",
        "\\end{array}\n",
        "\\end{equation*}\n",
        "$$\n",
        "\n",
        "\n",
        "<img src=\"https://raw.githubusercontent.com/vicolab/neural-network-intro/master/3-convnet/resources/Convolution_schematic.gif\" alt=\"Sliding window\" width=\"500\">\n",
        "\n",
        "[source](http://deeplearning.stanford.edu/wiki/index.php/Feature_extraction_using_convolution)\n",
        "\n",
        "El número de los llamados *mapas de características* producidos dependerá del número de salidas de la red neuronal. En este caso sólo tenemos un mapa de características.\n",
        "\n",
        "\n",
        "#### Stride y Padding\n",
        "\n",
        "Podemos utilizar padding y strides para controlar el tamaño de los mapas de características. A continuación se presentan cuatro animaciones que muestran la operación de convolución en una matriz de entrada utilizando diferentes paddings y strides:\n",
        "\n",
        "<table style=\"width:100%\">\n",
        "  <tr>\n",
        "    <td><img src=\"https://upload.wikimedia.org/wikipedia/commons/6/6c/Convolution_arithmetic_-_No_padding_no_strides.gif\" width=\"400\"></td>\n",
        "    <td><img src=\"https://upload.wikimedia.org/wikipedia/commons/b/b9/Convolution_arithmetic_-_No_padding_strides.gif\" width=\"400\"></td>\n",
        "    <td><img src=\"https://upload.wikimedia.org/wikipedia/commons/e/ee/Convolution_arithmetic_-_Same_padding_no_strides.gif\" width=\"400\"></td>\n",
        "    <td><img src=\"https://upload.wikimedia.org/wikipedia/commons/0/04/Convolution_arithmetic_-_Padding_strides.gif\" width=\"400\"></td>\n",
        "  </tr>\n",
        "  <tr>\n",
        "    <td>$padding = 0\\qquad stride = 1$</td>\n",
        "    <td>$padding = 0\\qquad stride = 2$</td>\n",
        "    <td>$padding = 1\\qquad stride = 1$</td>\n",
        "    <td>$padding = 1\\qquad stride = 2$</td>\n",
        "  </tr>\n",
        "</table>\n",
        "\n",
        "[source](https://github.com/vdumoulin/conv_arithmetic), [paper](https://arxiv.org/abs/1603.07285)\n",
        "\n",
        "En el caso de las imágenes, *padding* se traduce en el número de píxeles nuevos que introducimos alrededor del borde de una imagen, mientras que *stride* es la distancia a la que se desplaza el núcleo de convolución después de cada aplicación.\n",
        "\n",
        "Terminología menor vista en ciertos tipos de literatura:\n",
        "\n",
        "* **Padding válido** equivale a zero padding\n",
        "* **Mismo padding** significa que el padding utilizado es una función del tamaño del kernel para que el tamaño de salida tenga el mismo tamaño que el de entrada\n",
        "\n",
        "\n",
        "### Cálculo del tamaño de las convoluciones\n",
        "\n",
        "Para calcular el tamaño del mapa de características resultante de una convolución necesitamos conocer el tamaño de la entrada, el tamaño del núcleo (filtro), el stride y el padding:\n",
        "\n",
        "$$\n",
        "\\begin{equation*}\n",
        "output = \\frac{1}{stride} (input -  kernel + 2 * padding) + 1\n",
        "\\end{equation*}\n",
        "$$\n",
        "\n",
        "En el caso de las entradas bidimensionales, la altura y la anchura se pueden calcular así:\n",
        "\n",
        "$$\n",
        "\\begin{equation*}\n",
        "height_{new} =  \\frac{1}{stride} (height_{input} - height_{kernel} + 2 * padding)+1\n",
        "\\end{equation*}\n",
        "$$\n",
        "<br class=\"math\" />\n",
        "$$\n",
        "\\begin{equation*}\n",
        "widht_{new} =  \\frac{1}{stride} (widht_{input} - widht_{kernel} + 2 * padding)+1\n",
        "\\end{equation*}\n",
        "$$\n",
        "\n",
        "\n",
        "#### Ejemplo :\n",
        "\n",
        "Supongamos que tenemos una imagen de $6 \\times 6$. Si rellenamos esta imagen con un solo píxel y luego la convolucionamos con un núcleo de $3 \\times 3$ utilizando un stride de $2$, obtenemos el siguiente mapa de características (feature map) de $3 \\times 3$:\n",
        "\n",
        "<img src=\"https://raw.githubusercontent.com/vicolab/neural-network-intro/master/3-convnet/resources/odd.gif\" alt=\"Examples math\" width=\"300\">\n",
        "\n",
        "Podemos calcular el tamaño de salida utilizando las ecuaciones anteriores:\n",
        "\n",
        "$$\n",
        "\\begin{equation*}\n",
        "\\begin{aligned}\n",
        "height_{new} &= \\frac{1}{stride} (height_{input} - height_{kernel} + 2 * padding) + 1 \\\\\n",
        "&= \\frac{1}{2} (6 - 3 + 2 * 1) + 1 \\\\\n",
        "&= \\frac{1}{2}(5)+1 \\\\\n",
        "&= 3\n",
        "\\end{aligned}\n",
        "\\end{equation*}\n",
        "$$\n",
        "* Observe que redondeamos los números flotantes, por lo que pasamos de 3,5 a 3."
      ]
    },
    {
      "cell_type": "markdown",
      "metadata": {
        "id": "UR7sr9F1ktIR"
      },
      "source": [
        "## Pooling\n",
        "\n",
        "Se ha convertido en una práctica común el uso de la capa de pooling entre las capas convolucionales.\n",
        "\n",
        "Las redes neuronales convolucionales exitosas como [alexnet](https://papers.nips.cc/paper/4824-imagenet-classification-with-deep-convolutional-neural-networks), [VGG16, VGG19](https://arxiv.org/abs/1409.1556) emplean esta técnica.\n",
        "\n",
        "Las capas de pooling también dependen de las ventanas deslizantes, pero en lugar de utilizar la ventana como entradas para las neuronas, los datos de entrada deslizantes pasan por un operador `max`, `mean` o algún otro.\n",
        "\n",
        "### Un ejemplo de Max-Pooling\n",
        "\n",
        "<img src=\"https://raw.githubusercontent.com/vicolab/neural-network-intro/master/3-convnet/resources/pooling.gif\" alt=\"Max Pooling\" width=\"300\">\n",
        "\n",
        "El max-pooling tiene varias ventajas:\n",
        "* Si tiene imágenes en las que la misma clase tiene imágenes similares con pequeños desplazamientos en la posición de los píxeles, el max pooling mitigará las pequeñas traslaciones.\n",
        "* Introduce zero parameters en el modelo, ya que los operadores de máxima y media son funciones fijas que no dependen de los pesos\n",
        "* Reduce la cantidad de datos que hay que procesar en la siguiente capa, asegurando al mismo tiempo cierta invariabilidad de la traslación de los píxeles.\n",
        "* Se utilizan normalmente con zero padding (también conocido padding válido).\n",
        "* Siguen la misma matemática dimensional que las convoluciones\n",
        "\n",
        "[Puede leer más sobre los operadores de pooling aquí](http://cs231n.github.io/convolutional-networks/#pool)"
      ]
    },
    {
      "cell_type": "markdown",
      "metadata": {
        "id": "Xn8Ks4nQktIR"
      },
      "source": [
        "## Implementando una Red Convolucional\n",
        "\n",
        "Implementaremos la siguiente CNN:\n",
        "\n",
        "<img src=\"https://raw.githubusercontent.com/vicolab/neural-network-intro/master/3-convnet/resources/mnist_net.png\" alt=\"CNN\" width=\"1280\">\n",
        "\n",
        "Los componentes de esta red pueden verse a continuación:\n",
        "\n",
        "Defina una entrada:\n",
        "\n",
        "* `input_x = Input(shape=sample_shape)`\n",
        "* `sample_shape` es un parámetro de entrada\n",
        "    \n",
        "Genere 32 kernel maps utilizando una capa convolucional:\n",
        "\n",
        "* La convolución utiliza un kernel de $3 \\times 3$, stride 1, zero padding, y una función de activación [ReLU](https://en.wikipedia.org/wiki/Rectifier_(neural_networks)\n",
        "* Utilice [Conv2D](https://keras.io/layers/convolutional/) desde la librería Keras\n",
        "* `output_layer = Conv2D(PARAMETERS)(input_layer)`\n",
        "    \n",
        "Genere 64 kernel maps utilizando una capa convolucional:\n",
        "\n",
        "* La convolución utiliza un kernel de $3 \\times 3$, stride 1, zero padding, y una función de activación [ReLU]\n",
        "* Utilice [Conv2D](https://keras.io/layers/convolutional/)\n",
        "* `output_layer = Conv2D(PARAMETERS)(input_layer)`\n",
        "\n",
        "Reduzca los feature maps utilizando max-pooling:\n",
        "\n",
        "* La capa max-pooling debe utilizar un kernel de $2 \\times 2$, stride `None`, y zero padding\n",
        "* Utilice [MaxPooling2D](https://keras.io/layers/pooling/#maxpooling2d)\n",
        "* `output_layer = MaxPooling2D(PARAMETERS)(input_layer)`\n",
        "\n",
        "Aplane el feature map:\n",
        "\n",
        "* [Flatten](https://keras.io/layers/core/#flatten)\n",
        "\n",
        "Capa fully-connected, i.e. `Dense`, a 128 dimensiones:\n",
        "\n",
        "* Función de activación [ReLU](https://en.wikipedia.org/wiki/Rectifier_(neural_networks)\n",
        "* [Dense](https://keras.io/layers/core/#dense)\n",
        "\n",
        "Capa fully-connected, i.e. `Dense`, a $K$ clases (argumento) dimensiones:\n",
        "\n",
        "* Función de activación [Softmax](https://en.wikipedia.org/wiki/Softmax_function)\n",
        "* [Dense](https://keras.io/layers/core/#dense)\n",
        "\n",
        "\n",
        "### Parte IV:  Implemente una Convolutional Neural Network\n",
        "\n",
        "Es hora de implementar nuestra primera red neuronal convolucional.\n",
        "\n",
        "<div class=\"alert alert-success\">\n",
        "<strong>Tarea:</strong> Cree una función `net_1()` que implemente la red especificada anteriormente.\n",
        "</div>"
      ]
    },
    {
      "cell_type": "code",
      "execution_count": 8,
      "metadata": {
        "id": "ohigxWMPktIR"
      },
      "outputs": [],
      "source": [
        "# Importar la librería Keras\n",
        "import keras\n",
        "from keras.models import Model\n",
        "from keras.layers import *\n",
        "\n",
        "\n",
        "def net_1(sample_shape, nb_classes):\n",
        "    # Defina la entrada de la red para que tenga la dimensión `sample_shape\n",
        "    input_x = Input(shape=sample_shape)\n",
        "\n",
        "    # Cree aquí las conexiones internas de la red\n",
        "    x = Conv2D(32, kernel_size=(3, 3), strides=(1, 1), padding='same', activation='relu')(input_x)\n",
        "    x = Conv2D(64, kernel_size=(3, 3), strides=(1, 1), padding='same', activation='relu')(x)\n",
        "    x = MaxPooling2D(pool_size=(2, 2), strides=None, padding='valid')(x)\n",
        "    x = Flatten()(x)\n",
        "    probabilities = Dense(nb_classes, activation='softmax')(x)\n",
        "\n",
        "    # Defina la salida\n",
        "    model = Model(inputs=input_x, outputs=probabilities)\n",
        "\n",
        "    return model"
      ]
    },
    {
      "cell_type": "markdown",
      "metadata": {
        "id": "hOEKWKGJktIR"
      },
      "source": [
        "<div class=\"alert alert-info\">\n",
        "  <strong>En el siguiente fragmento de código</strong>\n",
        "<ul>\n",
        "  <li>Crearemos una red utilizando la función que acabas de implementar</li>\n",
        "  <li>Mostrar un resumen de la red</li>\n",
        "</ul>\n",
        "</div>"
      ]
    },
    {
      "cell_type": "code",
      "execution_count": 9,
      "metadata": {
        "id": "W4fIdEWmktIR",
        "colab": {
          "base_uri": "https://localhost:8080/"
        },
        "outputId": "eb8e8332-9ce5-47b4-e277-e8fba5d539d9"
      },
      "outputs": [
        {
          "output_type": "stream",
          "name": "stdout",
          "text": [
            "Model: \"model\"\n",
            "_________________________________________________________________\n",
            " Layer (type)                Output Shape              Param #   \n",
            "=================================================================\n",
            " input_1 (InputLayer)        [(None, 28, 28, 1)]       0         \n",
            "                                                                 \n",
            " conv2d (Conv2D)             (None, 28, 28, 32)        320       \n",
            "                                                                 \n",
            " conv2d_1 (Conv2D)           (None, 28, 28, 64)        18496     \n",
            "                                                                 \n",
            " max_pooling2d (MaxPooling2  (None, 14, 14, 64)        0         \n",
            " D)                                                              \n",
            "                                                                 \n",
            " flatten (Flatten)           (None, 12544)             0         \n",
            "                                                                 \n",
            " dense (Dense)               (None, 10)                125450    \n",
            "                                                                 \n",
            "=================================================================\n",
            "Total params: 144266 (563.54 KB)\n",
            "Trainable params: 144266 (563.54 KB)\n",
            "Non-trainable params: 0 (0.00 Byte)\n",
            "_________________________________________________________________\n"
          ]
        }
      ],
      "source": [
        "# Dimensión de la muestra\n",
        "sample_shape = x_train[0].shape\n",
        "\n",
        "# Construir una red\n",
        "model = net_1(sample_shape, 10)\n",
        "model.summary()"
      ]
    },
    {
      "cell_type": "markdown",
      "metadata": {
        "id": "tnwrkMN9ktIR"
      },
      "source": [
        "### Parte V: Definir los Hiperparámetros y entrenar la red\n",
        "\n",
        "Tenemos que definir los hiperparámetros para que nuestra red pueda aprender.\n",
        "\n",
        "<div class=\"alert alert-success\">\n",
        "\n",
        "<strong>Tarea:</strong> Afina los hiperparámetros hasta que su `loss` y `val_loss` converjan a números bajos:\n",
        "   \n",
        "<ul>\n",
        "  <li>Tamaño de batch</li>\n",
        "  <li>Número de épocas de entrenamiento</li>\n",
        "</ul>\n",
        "</div>\n"
      ]
    },
    {
      "cell_type": "code",
      "execution_count": 10,
      "metadata": {
        "id": "72wllVqLktIR",
        "colab": {
          "base_uri": "https://localhost:8080/",
          "height": 1000
        },
        "outputId": "abec284f-c839-499b-e382-23a39f0cad7e"
      },
      "outputs": [
        {
          "output_type": "stream",
          "name": "stdout",
          "text": [
            "Epoch 1/20\n",
            "53/53 - 11s - loss: 2.2981 - accuracy: 0.1416 - val_loss: 2.2943 - val_accuracy: 0.1515 - 11s/epoch - 209ms/step\n",
            "Epoch 2/20\n",
            "53/53 - 2s - loss: 2.2929 - accuracy: 0.1541 - val_loss: 2.2888 - val_accuracy: 0.1670 - 2s/epoch - 42ms/step\n",
            "Epoch 3/20\n",
            "53/53 - 2s - loss: 2.2876 - accuracy: 0.1677 - val_loss: 2.2831 - val_accuracy: 0.1853 - 2s/epoch - 42ms/step\n",
            "Epoch 4/20\n",
            "53/53 - 2s - loss: 2.2821 - accuracy: 0.1851 - val_loss: 2.2772 - val_accuracy: 0.2033 - 2s/epoch - 42ms/step\n",
            "Epoch 5/20\n",
            "53/53 - 2s - loss: 2.2763 - accuracy: 0.2046 - val_loss: 2.2710 - val_accuracy: 0.2235 - 2s/epoch - 43ms/step\n",
            "Epoch 6/20\n",
            "53/53 - 2s - loss: 2.2703 - accuracy: 0.2274 - val_loss: 2.2646 - val_accuracy: 0.2505 - 2s/epoch - 44ms/step\n",
            "Epoch 7/20\n",
            "53/53 - 2s - loss: 2.2640 - accuracy: 0.2503 - val_loss: 2.2578 - val_accuracy: 0.2763 - 2s/epoch - 43ms/step\n",
            "Epoch 8/20\n",
            "53/53 - 2s - loss: 2.2574 - accuracy: 0.2737 - val_loss: 2.2507 - val_accuracy: 0.3005 - 2s/epoch - 43ms/step\n",
            "Epoch 9/20\n",
            "53/53 - 2s - loss: 2.2504 - accuracy: 0.2940 - val_loss: 2.2432 - val_accuracy: 0.3240 - 2s/epoch - 42ms/step\n",
            "Epoch 10/20\n",
            "53/53 - 2s - loss: 2.2431 - accuracy: 0.3132 - val_loss: 2.2352 - val_accuracy: 0.3428 - 2s/epoch - 43ms/step\n",
            "Epoch 11/20\n",
            "53/53 - 2s - loss: 2.2353 - accuracy: 0.3321 - val_loss: 2.2268 - val_accuracy: 0.3657 - 2s/epoch - 44ms/step\n",
            "Epoch 12/20\n",
            "53/53 - 2s - loss: 2.2270 - accuracy: 0.3542 - val_loss: 2.2178 - val_accuracy: 0.3863 - 2s/epoch - 44ms/step\n",
            "Epoch 13/20\n",
            "53/53 - 2s - loss: 2.2181 - accuracy: 0.3754 - val_loss: 2.2082 - val_accuracy: 0.4118 - 2s/epoch - 44ms/step\n",
            "Epoch 14/20\n",
            "53/53 - 2s - loss: 2.2086 - accuracy: 0.3972 - val_loss: 2.1978 - val_accuracy: 0.4345 - 2s/epoch - 44ms/step\n",
            "Epoch 15/20\n",
            "53/53 - 2s - loss: 2.1983 - accuracy: 0.4201 - val_loss: 2.1867 - val_accuracy: 0.4588 - 2s/epoch - 44ms/step\n",
            "Epoch 16/20\n",
            "53/53 - 2s - loss: 2.1873 - accuracy: 0.4445 - val_loss: 2.1746 - val_accuracy: 0.4832 - 2s/epoch - 43ms/step\n",
            "Epoch 17/20\n",
            "53/53 - 2s - loss: 2.1753 - accuracy: 0.4682 - val_loss: 2.1616 - val_accuracy: 0.5082 - 2s/epoch - 43ms/step\n",
            "Epoch 18/20\n",
            "53/53 - 2s - loss: 2.1623 - accuracy: 0.4941 - val_loss: 2.1474 - val_accuracy: 0.5357 - 2s/epoch - 44ms/step\n",
            "Epoch 19/20\n",
            "53/53 - 2s - loss: 2.1481 - accuracy: 0.5189 - val_loss: 2.1319 - val_accuracy: 0.5620 - 2s/epoch - 44ms/step\n",
            "Epoch 20/20\n",
            "53/53 - 2s - loss: 2.1327 - accuracy: 0.5458 - val_loss: 2.1150 - val_accuracy: 0.5902 - 2s/epoch - 43ms/step\n"
          ]
        },
        {
          "output_type": "display_data",
          "data": {
            "text/plain": [
              "<Figure size 640x480 with 1 Axes>"
            ],
            "image/png": "[encoded data removed]"
          },
          "metadata": {}
        },
        {
          "output_type": "stream",
          "name": "stdout",
          "text": [
            "================================================================================\n",
            "Assesing Test dataset...\n",
            "================================================================================\n",
            "Test loss: 2.1219139099121094\n",
            "Test accuracy: 0.5666999816894531\n"
          ]
        }
      ],
      "source": [
        "# Defina los hiperparámetros\n",
        "# Se probó con 32, 64, 128, 256, 512, 1024, 2048, 4096, 8912 y 16384\n",
        "# Pudimos notar que existe una mejoría mínima mientras mayor tamaño es el batch, no obstante, más lento\n",
        "# Concluyo que el mejor valor es 1024\n",
        "batch_size = 1024\n",
        "epochs = 20\n",
        "\n",
        "### *No* modifique las siguientes líneas ###\n",
        "\n",
        "# No hay tasa de aprendizaje porque estamos usando los valores recomendados\n",
        "# para el optimizador Adadelta. Más información aquí:\n",
        "# https://keras.io/optimizers/\n",
        "\n",
        "# Necesitamos compilar nuestro modelo\n",
        "model.compile(loss='categorical_crossentropy',\n",
        "              optimizer='Adadelta',\n",
        "              metrics=['accuracy'])\n",
        "\n",
        "# Entrenar\n",
        "logs = model.fit(x_train, y_train,\n",
        "                 batch_size=batch_size,\n",
        "                 epochs=epochs,\n",
        "                 verbose=2,\n",
        "                 validation_split=0.1)\n",
        "\n",
        "# Graficar losses y el accuracy\n",
        "fig, ax = plt.subplots(1,1)\n",
        "\n",
        "pd.DataFrame(logs.history).plot(ax=ax)\n",
        "ax.grid(linestyle='dotted')\n",
        "ax.legend()\n",
        "\n",
        "plt.show()\n",
        "\n",
        "# Evaluar el rendimiento\n",
        "print('='*80)\n",
        "print('Assesing Test dataset...')\n",
        "print('='*80)\n",
        "\n",
        "score = model.evaluate(x_test, y_test, verbose=0)\n",
        "print('Test loss:', score[0])\n",
        "print('Test accuracy:', score[1])"
      ]
    },
    {
      "cell_type": "markdown",
      "metadata": {
        "id": "UptQXC8kktIR"
      },
      "source": [
        "## ¿Deberíamos usar Max-Pooling?\n",
        "\n",
        "Recientemente se ha discutido si max-pooling es una buena solución para reducir la cantidad de datos entre capas de una red. Algunos enfoques recientes muestran que se puede conseguir un rendimiento similar, y a veces mejor, utilizando convoluciones con strides mayores que 1.\n",
        "\n",
        "\n",
        "> Deshacerse de pooling. A mucha gente no le gusta la operación de pooling y cree que se puede prescindir de ella. Por ejemplo, [Striving for Simplicity: The All Convolutional Net](http://arxiv.org/abs/1412.6806) propone descartar la capa de pooling en favor de una arquitectura que sólo conste de capas CONV repetidas. Para reducir el tamaño de la representación, sugieren utilizar un stride mayor en la capa CONV de vez en cuando. También se ha descubierto que descartar las capas de pooling es importante para entrenar buenos modelos generativos, como los autoencoders variacionales (VAE) o las redes generativas adversariales (GAN). Parece probable que las arquitecturas futuras tengan muy pocas o ninguna capa de pooling.\n",
        "\n",
        "[source](http://cs231n.github.io/convolutional-networks/#pool)\n",
        "\n",
        "\n",
        "### Parte VI: Implemente una Convolutional Network sin Max-Pooling\n",
        "\n",
        "Implemente una Convolutional Neural Network sin capas de pooling:\n",
        "\n",
        "<img src=\"https://raw.githubusercontent.com/vicolab/neural-network-intro/master/3-convnet/resources/mnist_net2.png\" alt=\"CNN\" width=\"1280\">\n",
        "\n",
        "<div class=\"alert alert-success\">\n",
        "<strong>Tarea:</strong> Replique la red que construimos anteriormente (`net_1()`), pero esta vez:\n",
        "<ul>\n",
        "  <li>Remueva la capa de max pooling y añada un stride=2 al segundo bloque de convolución.\n",
        "  </li>\n",
        "</ul>\n",
        "</div>\n",
        "\n",
        "Observación: vea [Conv2D](https://keras.io/layers/convolutional/)\n",
        "      \n"
      ]
    },
    {
      "cell_type": "code",
      "execution_count": 11,
      "metadata": {
        "id": "2wVic-_qktIS"
      },
      "outputs": [],
      "source": [
        "def net_2(sample_shape, nb_classes):\n",
        "    # Defina la entrada de la red para que tenga la dimensión `sample_shape\n",
        "    input_x = Input(shape=sample_shape)\n",
        "\n",
        "    # Cree aquí las conexiones internas de la red\n",
        "    x = Conv2D(32, kernel_size=(3, 3), strides=(1, 1), padding='same', activation='relu')(input_x)\n",
        "    x = Conv2D(64, kernel_size=(3, 3), strides=(2, 2), padding='same', activation='relu')(x)\n",
        "    x = Flatten()(x)\n",
        "    probabilities = Dense(nb_classes, activation='softmax')(x)\n",
        "\n",
        "    # Defina la salida\n",
        "    model = Model(inputs=input_x, outputs=probabilities)\n",
        "\n",
        "    return model"
      ]
    },
    {
      "cell_type": "markdown",
      "metadata": {
        "id": "rOvZlEonktIS"
      },
      "source": [
        "<div class=\"alert alert-info\">\n",
        "  <strong>En el siguiente fragmento de códigol:</strong>\n",
        "<ul>\n",
        "  <li>Crearemos una red utilizando la función que acabamos de implementar</li>\n",
        "  <li>Mostraremos un resumen de la red</li>\n",
        "</ul>\n",
        "</div>"
      ]
    },
    {
      "cell_type": "code",
      "execution_count": 12,
      "metadata": {
        "id": "w2HVQgdxktIS",
        "colab": {
          "base_uri": "https://localhost:8080/"
        },
        "outputId": "2956edc4-aa02-4081-8f87-718f6542337d"
      },
      "outputs": [
        {
          "output_type": "stream",
          "name": "stdout",
          "text": [
            "Model: \"model_1\"\n",
            "_________________________________________________________________\n",
            " Layer (type)                Output Shape              Param #   \n",
            "=================================================================\n",
            " input_2 (InputLayer)        [(None, 28, 28, 1)]       0         \n",
            "                                                                 \n",
            " conv2d_2 (Conv2D)           (None, 28, 28, 32)        320       \n",
            "                                                                 \n",
            " conv2d_3 (Conv2D)           (None, 14, 14, 64)        18496     \n",
            "                                                                 \n",
            " flatten_1 (Flatten)         (None, 12544)             0         \n",
            "                                                                 \n",
            " dense_1 (Dense)             (None, 10)                125450    \n",
            "                                                                 \n",
            "=================================================================\n",
            "Total params: 144266 (563.54 KB)\n",
            "Trainable params: 144266 (563.54 KB)\n",
            "Non-trainable params: 0 (0.00 Byte)\n",
            "_________________________________________________________________\n"
          ]
        }
      ],
      "source": [
        "# Dimensión de la muestra\n",
        "sample_shape = x_train[0].shape\n",
        "\n",
        "# Construir una red\n",
        "model = net_2(sample_shape, 10)\n",
        "model.summary()"
      ]
    },
    {
      "cell_type": "markdown",
      "metadata": {
        "id": "-04NTnT-ktIS"
      },
      "source": [
        "### Parte VII: Definir los Hiperparámetros y Entrenar la Red Neuronal\n",
        "\n",
        "Como antes, necesitamos definir algunos hiperparámetros y entrenar la red. Siéntase libre de reutilizar los hiperparámetros que encontró antes.\n",
        "\n",
        "<div class=\"alert alert-success\">\n",
        "<strong>Tarea:</strong> Afinar los siguientes hiperparámetros hasta que `loss` y `val_loss` converjan en números bajos:\n",
        "<ul>\n",
        "  <li>Tamaño de batch</li>\n",
        "  <li>Número de epocas de entrenamiento</li>\n",
        "</ul>\n",
        "</div>"
      ]
    },
    {
      "cell_type": "code",
      "execution_count": 13,
      "metadata": {
        "id": "VLYQbj8dktIS",
        "colab": {
          "base_uri": "https://localhost:8080/",
          "height": 1000
        },
        "outputId": "6ad8ec1e-0ab1-4727-b92d-8931f9de9e06"
      },
      "outputs": [
        {
          "output_type": "stream",
          "name": "stdout",
          "text": [
            "Epoch 1/20\n",
            "53/53 - 3s - loss: 2.3025 - accuracy: 0.1450 - val_loss: 2.3014 - val_accuracy: 0.1547 - 3s/epoch - 54ms/step\n",
            "Epoch 2/20\n",
            "53/53 - 1s - loss: 2.2999 - accuracy: 0.1570 - val_loss: 2.2986 - val_accuracy: 0.1673 - 1s/epoch - 25ms/step\n",
            "Epoch 3/20\n",
            "53/53 - 1s - loss: 2.2972 - accuracy: 0.1709 - val_loss: 2.2957 - val_accuracy: 0.1803 - 1s/epoch - 25ms/step\n",
            "Epoch 4/20\n",
            "53/53 - 1s - loss: 2.2944 - accuracy: 0.1884 - val_loss: 2.2928 - val_accuracy: 0.2017 - 1s/epoch - 25ms/step\n",
            "Epoch 5/20\n",
            "53/53 - 1s - loss: 2.2915 - accuracy: 0.2101 - val_loss: 2.2897 - val_accuracy: 0.2270 - 1s/epoch - 26ms/step\n",
            "Epoch 6/20\n",
            "53/53 - 1s - loss: 2.2885 - accuracy: 0.2356 - val_loss: 2.2865 - val_accuracy: 0.2543 - 1s/epoch - 26ms/step\n",
            "Epoch 7/20\n",
            "53/53 - 1s - loss: 2.2854 - accuracy: 0.2635 - val_loss: 2.2832 - val_accuracy: 0.2862 - 1s/epoch - 25ms/step\n",
            "Epoch 8/20\n",
            "53/53 - 1s - loss: 2.2822 - accuracy: 0.2930 - val_loss: 2.2798 - val_accuracy: 0.3158 - 1s/epoch - 25ms/step\n",
            "Epoch 9/20\n",
            "53/53 - 1s - loss: 2.2788 - accuracy: 0.3232 - val_loss: 2.2761 - val_accuracy: 0.3512 - 1s/epoch - 25ms/step\n",
            "Epoch 10/20\n",
            "53/53 - 1s - loss: 2.2753 - accuracy: 0.3524 - val_loss: 2.2724 - val_accuracy: 0.3812 - 1s/epoch - 25ms/step\n",
            "Epoch 11/20\n",
            "53/53 - 1s - loss: 2.2716 - accuracy: 0.3797 - val_loss: 2.2684 - val_accuracy: 0.4078 - 1s/epoch - 25ms/step\n",
            "Epoch 12/20\n",
            "53/53 - 1s - loss: 2.2677 - accuracy: 0.4060 - val_loss: 2.2641 - val_accuracy: 0.4328 - 1s/epoch - 25ms/step\n",
            "Epoch 13/20\n",
            "53/53 - 1s - loss: 2.2635 - accuracy: 0.4306 - val_loss: 2.2597 - val_accuracy: 0.4575 - 1s/epoch - 25ms/step\n",
            "Epoch 14/20\n",
            "53/53 - 1s - loss: 2.2591 - accuracy: 0.4503 - val_loss: 2.2549 - val_accuracy: 0.4770 - 1s/epoch - 25ms/step\n",
            "Epoch 15/20\n",
            "53/53 - 1s - loss: 2.2544 - accuracy: 0.4698 - val_loss: 2.2498 - val_accuracy: 0.4955 - 1s/epoch - 26ms/step\n",
            "Epoch 16/20\n",
            "53/53 - 1s - loss: 2.2493 - accuracy: 0.4858 - val_loss: 2.2443 - val_accuracy: 0.5122 - 1s/epoch - 27ms/step\n",
            "Epoch 17/20\n",
            "53/53 - 1s - loss: 2.2439 - accuracy: 0.5019 - val_loss: 2.2385 - val_accuracy: 0.5278 - 1s/epoch - 26ms/step\n",
            "Epoch 18/20\n",
            "53/53 - 1s - loss: 2.2381 - accuracy: 0.5162 - val_loss: 2.2321 - val_accuracy: 0.5407 - 1s/epoch - 25ms/step\n",
            "Epoch 19/20\n",
            "53/53 - 1s - loss: 2.2318 - accuracy: 0.5291 - val_loss: 2.2253 - val_accuracy: 0.5523 - 1s/epoch - 25ms/step\n",
            "Epoch 20/20\n",
            "53/53 - 1s - loss: 2.2249 - accuracy: 0.5411 - val_loss: 2.2178 - val_accuracy: 0.5657 - 1s/epoch - 25ms/step\n",
            "================================================================================\n",
            "Assesing Test dataset...\n",
            "================================================================================\n",
            "Test loss: 2.2198853492736816\n",
            "Test accuracy: 0.5523999929428101\n"
          ]
        },
        {
          "output_type": "display_data",
          "data": {
            "text/plain": [
              "<Figure size 640x480 with 1 Axes>"
            ],
            "image/png": "[encoded data removed]"
          },
          "metadata": {}
        }
      ],
      "source": [
        "# Defina los hiperparámetros\n",
        "batch_size = 1024\n",
        "epochs = 20\n",
        "\n",
        "### *No* modifique las siguientes líneas ###\n",
        "\n",
        "# Necesitamos compilar nuestro modelo\n",
        "model.compile(loss='categorical_crossentropy',\n",
        "              optimizer='Adadelta',\n",
        "              metrics=['accuracy'])\n",
        "\n",
        "# Entrenar\n",
        "logs = model.fit(x_train, y_train,\n",
        "          batch_size=batch_size,\n",
        "          epochs=epochs,\n",
        "          verbose=2,\n",
        "          validation_split = 0.1,)\n",
        "\n",
        "# Graficar losses y el accuracy\n",
        "fig, ax = plt.subplots(1,1)\n",
        "\n",
        "pd.DataFrame(logs.history).plot(ax=ax)\n",
        "ax.grid(linestyle='dotted')\n",
        "ax.legend()\n",
        "fig.canvas.draw()\n",
        "\n",
        "\n",
        "# Evaluar el rendimiento\n",
        "print('='*80)\n",
        "print('Assesing Test dataset...')\n",
        "print('='*80)\n",
        "\n",
        "score = model.evaluate(x_test, y_test, verbose=0)\n",
        "print('Test loss:', score[0])\n",
        "print('Test accuracy:', score[1])"
      ]
    },
    {
      "cell_type": "markdown",
      "metadata": {
        "collapsed": true,
        "id": "jmw21JqbktIS"
      },
      "source": [
        "# CIFAR\n",
        "\n",
        "La siguiente explicación de Cifar 10 proviene de [official cifar page](https://www.cs.toronto.edu/~kriz/cifar.html):\n",
        "\n",
        "CIFAR-10 y CIFAR-100 son subconjuntos etiquetados del dataset compuesto por <a href=\"http://people.csail.mit.edu/torralba/tinyimages/\">80 millones de imágenes pequeñas</a>. Fueron recolectados por Alex Krizhevsky, Vinod Nair y Geoffrey Hinton.\n",
        "\n",
        "\n",
        "## CIFAR10 Dataset\n",
        "\n",
        "El dataset CIFAR-10 consta de 60000 imágenes en color de $32 \\times 32$, compuesta por 10 clases, con 6000 imágenes por clase. Hay 50000 imágenes de entrenamiento y 10000 imágenes de prueba.\n",
        "\n",
        "El dataset se divide en cinco batches de entrenamiento y un batch de prueba, cada uno con 10000 imágenes. El batch de prueba contiene exactamente 1000 imágenes seleccionadas al azar de cada clase. Los batches de entrenamiento contienen el resto de imágenes en orden aleatorio, pero algunos batches de entrenamiento pueden contener más imágenes de una clase que de otra. Entre ellos, los batches de entrenamiento contienen exactamente 5000 imágenes de cada clase.\n",
        "\n",
        "Aquí están las clases del dataset, así como 10 imágenes aleatorias de cada una:\n",
        "<table>\n",
        "    <tr>\n",
        "        <td class=\"cifar-class-name\">airplane</td>\n",
        "        <td><img src=\"https://www.cs.toronto.edu/~kriz/cifar-10-sample/airplane1.png\" class=\"cifar-sample\" /></td>\n",
        "        <td><img src=\"https://www.cs.toronto.edu/~kriz/cifar-10-sample/airplane2.png\" class=\"cifar-sample\" /></td>\n",
        "        <td><img src=\"https://www.cs.toronto.edu/~kriz/cifar-10-sample/airplane3.png\" class=\"cifar-sample\" /></td>\n",
        "        <td><img src=\"https://www.cs.toronto.edu/~kriz/cifar-10-sample/airplane4.png\" class=\"cifar-sample\" /></td>\n",
        "        <td><img src=\"https://www.cs.toronto.edu/~kriz/cifar-10-sample/airplane5.png\" class=\"cifar-sample\" /></td>\n",
        "        <td><img src=\"https://www.cs.toronto.edu/~kriz/cifar-10-sample/airplane6.png\" class=\"cifar-sample\" /></td>\n",
        "        <td><img src=\"https://www.cs.toronto.edu/~kriz/cifar-10-sample/airplane7.png\" class=\"cifar-sample\" /></td>\n",
        "        <td><img src=\"https://www.cs.toronto.edu/~kriz/cifar-10-sample/airplane8.png\" class=\"cifar-sample\" /></td>\n",
        "        <td><img src=\"https://www.cs.toronto.edu/~kriz/cifar-10-sample/airplane9.png\" class=\"cifar-sample\" /></td>\n",
        "        <td><img src=\"https://www.cs.toronto.edu/~kriz/cifar-10-sample/airplane10.png\" class=\"cifar-sample\" /></td>\n",
        "    </tr>\n",
        "    <tr>\n",
        "        <td class=\"cifar-class-name\">automobile</td>\n",
        "        <td><img src=\"https://www.cs.toronto.edu/~kriz/cifar-10-sample/automobile1.png\" class=\"cifar-sample\" /></td>\n",
        "        <td><img src=\"https://www.cs.toronto.edu/~kriz/cifar-10-sample/automobile2.png\" class=\"cifar-sample\" /></td>\n",
        "        <td><img src=\"https://www.cs.toronto.edu/~kriz/cifar-10-sample/automobile3.png\" class=\"cifar-sample\" /></td>\n",
        "        <td><img src=\"https://www.cs.toronto.edu/~kriz/cifar-10-sample/automobile4.png\" class=\"cifar-sample\" /></td>\n",
        "        <td><img src=\"https://www.cs.toronto.edu/~kriz/cifar-10-sample/automobile5.png\" class=\"cifar-sample\" /></td>\n",
        "        <td><img src=\"https://www.cs.toronto.edu/~kriz/cifar-10-sample/automobile6.png\" class=\"cifar-sample\" /></td>\n",
        "        <td><img src=\"https://www.cs.toronto.edu/~kriz/cifar-10-sample/automobile7.png\" class=\"cifar-sample\" /></td>\n",
        "        <td><img src=\"https://www.cs.toronto.edu/~kriz/cifar-10-sample/automobile8.png\" class=\"cifar-sample\" /></td>\n",
        "        <td><img src=\"https://www.cs.toronto.edu/~kriz/cifar-10-sample/automobile9.png\" class=\"cifar-sample\" /></td>\n",
        "        <td><img src=\"https://www.cs.toronto.edu/~kriz/cifar-10-sample/automobile10.png\" class=\"cifar-sample\" /></td>\n",
        "    </tr>\n",
        "    <tr>\n",
        "        <td class=\"cifar-class-name\">bird</td>\n",
        "        <td><img src=\"https://www.cs.toronto.edu/~kriz/cifar-10-sample/bird1.png\" class=\"cifar-sample\" /></td>\n",
        "        <td><img src=\"https://www.cs.toronto.edu/~kriz/cifar-10-sample/bird2.png\" class=\"cifar-sample\" /></td>\n",
        "        <td><img src=\"https://www.cs.toronto.edu/~kriz/cifar-10-sample/bird3.png\" class=\"cifar-sample\" /></td>\n",
        "        <td><img src=\"https://www.cs.toronto.edu/~kriz/cifar-10-sample/bird4.png\" class=\"cifar-sample\" /></td>\n",
        "        <td><img src=\"https://www.cs.toronto.edu/~kriz/cifar-10-sample/bird5.png\" class=\"cifar-sample\" /></td>\n",
        "        <td><img src=\"https://www.cs.toronto.edu/~kriz/cifar-10-sample/bird6.png\" class=\"cifar-sample\" /></td>\n",
        "        <td><img src=\"https://www.cs.toronto.edu/~kriz/cifar-10-sample/bird7.png\" class=\"cifar-sample\" /></td>\n",
        "        <td><img src=\"https://www.cs.toronto.edu/~kriz/cifar-10-sample/bird8.png\" class=\"cifar-sample\" /></td>\n",
        "        <td><img src=\"https://www.cs.toronto.edu/~kriz/cifar-10-sample/bird9.png\" class=\"cifar-sample\" /></td>\n",
        "        <td><img src=\"https://www.cs.toronto.edu/~kriz/cifar-10-sample/bird10.png\" class=\"cifar-sample\" /></td>\n",
        "    </tr>\n",
        "    <tr>\n",
        "        <td class=\"cifar-class-name\">cat</td>\n",
        "        <td><img src=\"https://www.cs.toronto.edu/~kriz/cifar-10-sample/cat1.png\" class=\"cifar-sample\" /></td>\n",
        "        <td><img src=\"https://www.cs.toronto.edu/~kriz/cifar-10-sample/cat2.png\" class=\"cifar-sample\" /></td>\n",
        "        <td><img src=\"https://www.cs.toronto.edu/~kriz/cifar-10-sample/cat3.png\" class=\"cifar-sample\" /></td>\n",
        "        <td><img src=\"https://www.cs.toronto.edu/~kriz/cifar-10-sample/cat4.png\" class=\"cifar-sample\" /></td>\n",
        "        <td><img src=\"https://www.cs.toronto.edu/~kriz/cifar-10-sample/cat5.png\" class=\"cifar-sample\" /></td>\n",
        "        <td><img src=\"https://www.cs.toronto.edu/~kriz/cifar-10-sample/cat6.png\" class=\"cifar-sample\" /></td>\n",
        "        <td><img src=\"https://www.cs.toronto.edu/~kriz/cifar-10-sample/cat7.png\" class=\"cifar-sample\" /></td>\n",
        "        <td><img src=\"https://www.cs.toronto.edu/~kriz/cifar-10-sample/cat8.png\" class=\"cifar-sample\" /></td>\n",
        "        <td><img src=\"https://www.cs.toronto.edu/~kriz/cifar-10-sample/cat9.png\" class=\"cifar-sample\" /></td>\n",
        "        <td><img src=\"https://www.cs.toronto.edu/~kriz/cifar-10-sample/cat10.png\" class=\"cifar-sample\" /></td>\n",
        "    </tr>\n",
        "    <tr>\n",
        "        <td class=\"cifar-class-name\">deer</td>\n",
        "        <td><img src=\"https://www.cs.toronto.edu/~kriz/cifar-10-sample/deer1.png\" class=\"cifar-sample\" /></td>\n",
        "        <td><img src=\"https://www.cs.toronto.edu/~kriz/cifar-10-sample/deer2.png\" class=\"cifar-sample\" /></td>\n",
        "        <td><img src=\"https://www.cs.toronto.edu/~kriz/cifar-10-sample/deer3.png\" class=\"cifar-sample\" /></td>\n",
        "        <td><img src=\"https://www.cs.toronto.edu/~kriz/cifar-10-sample/deer4.png\" class=\"cifar-sample\" /></td>\n",
        "        <td><img src=\"https://www.cs.toronto.edu/~kriz/cifar-10-sample/deer5.png\" class=\"cifar-sample\" /></td>\n",
        "        <td><img src=\"https://www.cs.toronto.edu/~kriz/cifar-10-sample/deer6.png\" class=\"cifar-sample\" /></td>\n",
        "        <td><img src=\"https://www.cs.toronto.edu/~kriz/cifar-10-sample/deer7.png\" class=\"cifar-sample\" /></td>\n",
        "        <td><img src=\"https://www.cs.toronto.edu/~kriz/cifar-10-sample/deer8.png\" class=\"cifar-sample\" /></td>\n",
        "        <td><img src=\"https://www.cs.toronto.edu/~kriz/cifar-10-sample/deer9.png\" class=\"cifar-sample\" /></td>\n",
        "        <td><img src=\"https://www.cs.toronto.edu/~kriz/cifar-10-sample/deer10.png\" class=\"cifar-sample\" /></td>\n",
        "    </tr>\n",
        "    <tr>\n",
        "        <td class=\"cifar-class-name\">dog</td>\n",
        "        <td><img src=\"https://www.cs.toronto.edu/~kriz/cifar-10-sample/dog1.png\" class=\"cifar-sample\" /></td>\n",
        "        <td><img src=\"https://www.cs.toronto.edu/~kriz/cifar-10-sample/dog2.png\" class=\"cifar-sample\" /></td>\n",
        "        <td><img src=\"https://www.cs.toronto.edu/~kriz/cifar-10-sample/dog3.png\" class=\"cifar-sample\" /></td>\n",
        "        <td><img src=\"https://www.cs.toronto.edu/~kriz/cifar-10-sample/dog4.png\" class=\"cifar-sample\" /></td>\n",
        "        <td><img src=\"https://www.cs.toronto.edu/~kriz/cifar-10-sample/dog5.png\" class=\"cifar-sample\" /></td>\n",
        "        <td><img src=\"https://www.cs.toronto.edu/~kriz/cifar-10-sample/dog6.png\" class=\"cifar-sample\" /></td>\n",
        "        <td><img src=\"https://www.cs.toronto.edu/~kriz/cifar-10-sample/dog7.png\" class=\"cifar-sample\" /></td>\n",
        "        <td><img src=\"https://www.cs.toronto.edu/~kriz/cifar-10-sample/dog8.png\" class=\"cifar-sample\" /></td>\n",
        "        <td><img src=\"https://www.cs.toronto.edu/~kriz/cifar-10-sample/dog9.png\" class=\"cifar-sample\" /></td>\n",
        "        <td><img src=\"https://www.cs.toronto.edu/~kriz/cifar-10-sample/dog10.png\" class=\"cifar-sample\" /></td>\n",
        "    </tr>\n",
        "    <tr>\n",
        "        <td class=\"cifar-class-name\">frog</td>\n",
        "        <td><img src=\"https://www.cs.toronto.edu/~kriz/cifar-10-sample/frog1.png\" class=\"cifar-sample\" /></td>\n",
        "        <td><img src=\"https://www.cs.toronto.edu/~kriz/cifar-10-sample/frog2.png\" class=\"cifar-sample\" /></td>\n",
        "        <td><img src=\"https://www.cs.toronto.edu/~kriz/cifar-10-sample/frog3.png\" class=\"cifar-sample\" /></td>\n",
        "        <td><img src=\"https://www.cs.toronto.edu/~kriz/cifar-10-sample/frog4.png\" class=\"cifar-sample\" /></td>\n",
        "        <td><img src=\"https://www.cs.toronto.edu/~kriz/cifar-10-sample/frog5.png\" class=\"cifar-sample\" /></td>\n",
        "        <td><img src=\"https://www.cs.toronto.edu/~kriz/cifar-10-sample/frog6.png\" class=\"cifar-sample\" /></td>\n",
        "        <td><img src=\"https://www.cs.toronto.edu/~kriz/cifar-10-sample/frog7.png\" class=\"cifar-sample\" /></td>\n",
        "        <td><img src=\"https://www.cs.toronto.edu/~kriz/cifar-10-sample/frog8.png\" class=\"cifar-sample\" /></td>\n",
        "        <td><img src=\"https://www.cs.toronto.edu/~kriz/cifar-10-sample/frog9.png\" class=\"cifar-sample\" /></td>\n",
        "        <td><img src=\"https://www.cs.toronto.edu/~kriz/cifar-10-sample/frog10.png\" class=\"cifar-sample\" /></td>\n",
        "    </tr>\n",
        "    <tr>\n",
        "        <td class=\"cifar-class-name\">horse</td>\n",
        "        <td><img src=\"https://www.cs.toronto.edu/~kriz/cifar-10-sample/horse1.png\" class=\"cifar-sample\" /></td>\n",
        "        <td><img src=\"https://www.cs.toronto.edu/~kriz/cifar-10-sample/horse2.png\" class=\"cifar-sample\" /></td>\n",
        "        <td><img src=\"https://www.cs.toronto.edu/~kriz/cifar-10-sample/horse3.png\" class=\"cifar-sample\" /></td>\n",
        "        <td><img src=\"https://www.cs.toronto.edu/~kriz/cifar-10-sample/horse4.png\" class=\"cifar-sample\" /></td>\n",
        "        <td><img src=\"https://www.cs.toronto.edu/~kriz/cifar-10-sample/horse5.png\" class=\"cifar-sample\" /></td>\n",
        "        <td><img src=\"https://www.cs.toronto.edu/~kriz/cifar-10-sample/horse6.png\" class=\"cifar-sample\" /></td>\n",
        "        <td><img src=\"https://www.cs.toronto.edu/~kriz/cifar-10-sample/horse7.png\" class=\"cifar-sample\" /></td>\n",
        "        <td><img src=\"https://www.cs.toronto.edu/~kriz/cifar-10-sample/horse8.png\" class=\"cifar-sample\" /></td>\n",
        "        <td><img src=\"https://www.cs.toronto.edu/~kriz/cifar-10-sample/horse9.png\" class=\"cifar-sample\" /></td>\n",
        "        <td><img src=\"https://www.cs.toronto.edu/~kriz/cifar-10-sample/horse10.png\" class=\"cifar-sample\" /></td>\n",
        "    </tr>\n",
        "    <tr>\n",
        "        <td class=\"cifar-class-name\">ship</td>\n",
        "        <td><img src=\"https://www.cs.toronto.edu/~kriz/cifar-10-sample/ship1.png\" class=\"cifar-sample\" /></td>\n",
        "        <td><img src=\"https://www.cs.toronto.edu/~kriz/cifar-10-sample/ship2.png\" class=\"cifar-sample\" /></td>\n",
        "        <td><img src=\"https://www.cs.toronto.edu/~kriz/cifar-10-sample/ship3.png\" class=\"cifar-sample\" /></td>\n",
        "        <td><img src=\"https://www.cs.toronto.edu/~kriz/cifar-10-sample/ship4.png\" class=\"cifar-sample\" /></td>\n",
        "        <td><img src=\"https://www.cs.toronto.edu/~kriz/cifar-10-sample/ship5.png\" class=\"cifar-sample\" /></td>\n",
        "        <td><img src=\"https://www.cs.toronto.edu/~kriz/cifar-10-sample/ship6.png\" class=\"cifar-sample\" /></td>\n",
        "        <td><img src=\"https://www.cs.toronto.edu/~kriz/cifar-10-sample/ship7.png\" class=\"cifar-sample\" /></td>\n",
        "        <td><img src=\"https://www.cs.toronto.edu/~kriz/cifar-10-sample/ship8.png\" class=\"cifar-sample\" /></td>\n",
        "        <td><img src=\"https://www.cs.toronto.edu/~kriz/cifar-10-sample/ship9.png\" class=\"cifar-sample\" /></td>\n",
        "        <td><img src=\"https://www.cs.toronto.edu/~kriz/cifar-10-sample/ship10.png\" class=\"cifar-sample\" /></td>\n",
        "    </tr>\n",
        "    <tr>\n",
        "        <td class=\"cifar-class-name\">truck</td>\n",
        "        <td><img src=\"https://www.cs.toronto.edu/~kriz/cifar-10-sample/truck1.png\" class=\"cifar-sample\" /></td>\n",
        "        <td><img src=\"https://www.cs.toronto.edu/~kriz/cifar-10-sample/truck2.png\" class=\"cifar-sample\" /></td>\n",
        "        <td><img src=\"https://www.cs.toronto.edu/~kriz/cifar-10-sample/truck3.png\" class=\"cifar-sample\" /></td>\n",
        "        <td><img src=\"https://www.cs.toronto.edu/~kriz/cifar-10-sample/truck4.png\" class=\"cifar-sample\" /></td>\n",
        "        <td><img src=\"https://www.cs.toronto.edu/~kriz/cifar-10-sample/truck5.png\" class=\"cifar-sample\" /></td>\n",
        "        <td><img src=\"https://www.cs.toronto.edu/~kriz/cifar-10-sample/truck6.png\" class=\"cifar-sample\" /></td>\n",
        "        <td><img src=\"https://www.cs.toronto.edu/~kriz/cifar-10-sample/truck7.png\" class=\"cifar-sample\" /></td>\n",
        "        <td><img src=\"https://www.cs.toronto.edu/~kriz/cifar-10-sample/truck8.png\" class=\"cifar-sample\" /></td>\n",
        "        <td><img src=\"https://www.cs.toronto.edu/~kriz/cifar-10-sample/truck9.png\" class=\"cifar-sample\" /></td>\n",
        "        <td><img src=\"https://www.cs.toronto.edu/~kriz/cifar-10-sample/truck10.png\" class=\"cifar-sample\" /></td>\n",
        "    </tr>\n",
        "</table>\n",
        "\n",
        "Las clases son completamente excluyentes. No hay solapamiento entre los automóviles y los camiones. \"Automóvil\" incluye sedans, todoterrenos y cosas de ese tipo. \"Camión\" incluye sólo los camiones grandes. Tampoco incluye las camionetas."
      ]
    },
    {
      "cell_type": "markdown",
      "metadata": {
        "id": "PGzKEXhTktIS"
      },
      "source": [
        "En el siguiente ejemplo cargaremos los datos de CIFAR10.\n",
        "\n",
        "* **input** $\\rightarrow$ 60000 muestras de 3072 vectores dimensionales.\n",
        "    * Aquí se presentan como matrices de $32 \\times 32 \\times 3$  $\\rightarrow$ Imágenes de color\n",
        "* **target** $\\rightarrow$ 60000 escalares que indican una clase de 0 a 9\n",
        "\n",
        "<div class=\"alert alert-info\">\n",
        "  <strong>En el siguiente código:</strong>\n",
        "<ul>\n",
        "  <li>Cargaremos el dataset CIFAR10</li>\n",
        "  <li>Graficaremos la 5ª muestra del conjunto de entrenamiento</li>\n",
        "</ul>\n",
        "</div>"
      ]
    },
    {
      "cell_type": "code",
      "execution_count": 19,
      "metadata": {
        "id": "UcsiXsiEktIS",
        "colab": {
          "base_uri": "https://localhost:8080/",
          "height": 743
        },
        "outputId": "df995180-6348-4205-e423-2db9aee51e5f"
      },
      "outputs": [
        {
          "output_type": "stream",
          "name": "stdout",
          "text": [
            "x_train shape: (50000, 32, 32, 3)\n",
            "50000 train samples\n",
            "10000 test samples\n",
            "Shape of x_train (50000, 32, 32, 3)\n",
            "Shape of y_train (50000, 1)\n",
            "Shape of x_test (50000, 32, 32, 3)\n",
            "Shape of y_test (50000, 1)\n"
          ]
        },
        {
          "output_type": "display_data",
          "data": {
            "text/plain": [
              "<Figure size 700x700 with 1 Axes>"
            ],
            "image/png": "[encoded data removed]"
          },
          "metadata": {}
        }
      ],
      "source": [
        "from keras.datasets import cifar10\n",
        "\n",
        "# Los datos divididos entre los conjuntos de entrenamiento y prueba\n",
        "(x_train, y_train), (x_test, y_test) = cifar10.load_data()\n",
        "\n",
        "print('x_train shape:', x_train.shape)\n",
        "print(x_train.shape[0], 'train samples')\n",
        "print(x_test.shape[0], 'test samples')\n",
        "\n",
        "target_2_class = {0:'airplane',\n",
        "                  1:'automobile',\n",
        "                  2:'bird',\n",
        "                  3:'cat',\n",
        "                  4:'deer',\n",
        "                  5:'dog',\n",
        "                  6:'frog',\n",
        "                  7:'horse',\n",
        "                  8:'ship',\n",
        "                  9:'truck'}\n",
        "\n",
        "# Código para graficar la 5ª muestra de entrenamiento.\n",
        "fig,ax1 = plt.subplots(1,1, figsize=(7,7))\n",
        "ax1.imshow(x_train[5])\n",
        "target = y_train[5][0]\n",
        "title = 'Target is {} - Class {}'.format(target_2_class[target],target )\n",
        "ax1.set_title(title)\n",
        "ax1.grid(which='Major')\n",
        "ax1.xaxis.set_major_locator(MaxNLocator(32))\n",
        "ax1.yaxis.set_major_locator(MaxNLocator(32))\n",
        "fig.canvas.draw()\n",
        "time.sleep(0.1)\n",
        "\n",
        "print('Shape of x_train {}'.format(x_train.shape))\n",
        "print('Shape of y_train {}'.format(y_train.shape))\n",
        "print('Shape of x_test {}'.format(x_train.shape))\n",
        "print('Shape of y_test {}'.format(y_train.shape))"
      ]
    },
    {
      "cell_type": "markdown",
      "metadata": {
        "id": "PQbX4D8SktIT"
      },
      "source": [
        "### Parte VIII: Codificación One-Hot para los Labels\n",
        "\n",
        "<div class=\"alert alert-success\">\n",
        "<strong>Tarea:</strong> Utilice la función `one_hot()` que creó anteriormente para codificar:\n",
        "<ul>\n",
        "  <li>`y_test`</li>\n",
        "  <li>`y_train`</li>\n",
        "</ul>\n",
        "</div>"
      ]
    },
    {
      "cell_type": "code",
      "execution_count": 20,
      "metadata": {
        "id": "lIv20dNDktIT",
        "colab": {
          "base_uri": "https://localhost:8080/"
        },
        "outputId": "0b7ff9db-6f25-49bd-ce56-8cbd2b26c58e"
      },
      "outputs": [
        {
          "output_type": "stream",
          "name": "stdout",
          "text": [
            "Shape of x_train (50000, 32, 32, 3)\n",
            "Shape of y_train (50000, 10)\n",
            "Shape of x_test (50000, 32, 32, 3)\n",
            "Shape of y_test (50000, 10)\n"
          ]
        }
      ],
      "source": [
        "y_test = one_hot(y_test, 10)\n",
        "y_train = one_hot(y_train, 10)\n",
        "\n",
        "### *No* modifique las siguientes líneas ###\n",
        "# Imprima los tamaños de los datos (variables)\n",
        "print('Shape of x_train {}'.format(x_train.shape))\n",
        "print('Shape of y_train {}'.format(y_train.shape))\n",
        "print('Shape of x_test {}'.format(x_train.shape))\n",
        "print('Shape of y_test {}'.format(y_train.shape))"
      ]
    },
    {
      "cell_type": "markdown",
      "metadata": {
        "id": "faVclyzPktIU"
      },
      "source": [
        "### Parte IX: Normalizar las imágenes\n",
        "\n",
        "<div class=\"alert alert-success\">\n",
        "<strong>Tarea:</strong> Utilice la función `normalize_images()` que creó anteriormente para normalizar las imágenes en:\n",
        "<ul>\n",
        "  <li>`x_test`</li>\n",
        "  <li>`x_train`</li>\n",
        "</ul>\n",
        "</div>"
      ]
    },
    {
      "cell_type": "code",
      "execution_count": 21,
      "metadata": {
        "id": "_2zM9zfjktIU"
      },
      "outputs": [],
      "source": [
        "x_test = normalize_images(x_test)\n",
        "x_train = normalize_images(x_train)"
      ]
    },
    {
      "cell_type": "markdown",
      "metadata": {
        "id": "FCoznG0xktIU"
      },
      "source": [
        "### Parte X: Cree su CNN para CIFAR10\n",
        "\n",
        "<div class=\"alert alert-success\">\n",
        "  <strong>Tarea:</strong> Cree un modelo de red neuronal para entrenar CIFAR usando lo que hemos aprendido hasta ahora.\n",
        "<ul>\n",
        "  <li>Cree una nueva red utilizando `net_1()` o `net_2()`</li>\n",
        "  <li>Mostrar un resumen de la red</li>.\n",
        "  <li>Compilar el modelo utilizando `Adadelta`, `Adagrad`, o `Adam` como su optimizador</li>\n",
        "</ul>\n",
        "Parte del código ya está rellenado, así que modifique lo que necesite.\n",
        "</div>"
      ]
    },
    {
      "cell_type": "code",
      "execution_count": 22,
      "metadata": {
        "id": "PJNDbpQaktIU",
        "colab": {
          "base_uri": "https://localhost:8080/"
        },
        "outputId": "9de6e6e0-69f4-49f6-c06d-205d2971ede9"
      },
      "outputs": [
        {
          "output_type": "stream",
          "name": "stdout",
          "text": [
            "Model: \"model_3\"\n",
            "_________________________________________________________________\n",
            " Layer (type)                Output Shape              Param #   \n",
            "=================================================================\n",
            " input_4 (InputLayer)        [(None, 32, 32, 3)]       0         \n",
            "                                                                 \n",
            " conv2d_6 (Conv2D)           (None, 32, 32, 32)        896       \n",
            "                                                                 \n",
            " conv2d_7 (Conv2D)           (None, 32, 32, 64)        18496     \n",
            "                                                                 \n",
            " max_pooling2d_2 (MaxPoolin  (None, 16, 16, 64)        0         \n",
            " g2D)                                                            \n",
            "                                                                 \n",
            " flatten_3 (Flatten)         (None, 16384)             0         \n",
            "                                                                 \n",
            " dense_3 (Dense)             (None, 10)                163850    \n",
            "                                                                 \n",
            "=================================================================\n",
            "Total params: 183242 (715.79 KB)\n",
            "Trainable params: 183242 (715.79 KB)\n",
            "Non-trainable params: 0 (0.00 Byte)\n",
            "_________________________________________________________________\n"
          ]
        }
      ],
      "source": [
        "# Dimensionalidad de la muestra\n",
        "sample_shape = x_train[0].shape\n",
        "\n",
        "# Construcción de la red\n",
        "model = net_1(sample_shape, 10)\n",
        "model.summary()\n",
        "\n",
        "# Necesitamos compilar nuestro modelo de red neuronal\n",
        "model.compile(loss='categorical_crossentropy',\n",
        "              optimizer='Adam',\n",
        "              metrics=['accuracy'])"
      ]
    },
    {
      "cell_type": "markdown",
      "metadata": {
        "id": "AEmGaoTvktIU"
      },
      "source": [
        "### Parte XI: Entrene su modelo\n",
        "\n",
        "<div class=\"alert alert-success\">\n",
        "  <strong>Tarea:</strong> : Entrenar el modelo creado en la celda anterior en CIFAR10.\n",
        "  <ul>\n",
        "  <li>Entrene la red utilizando `epochs = 30`</li>\n",
        "  <li>Entrene la red utilizando un `batch_size = 128`</li>\n",
        "  <li>Utilice `validation_split = 0.2` cuando llame a `fit()`</li>\n",
        "  <li>Planifica las pérdidas y la precisión</li>\n",
        "  <li>Evaluar el rendimiento en el conjunto de pruebas</li>.\n",
        "</ul>\n",
        "Le recomendamos que no copie y pegue de las celdas anteriores, sino que reescriba el código usted mismo. Siempre puedes echar un vistazo a las celdas anteriores si no estás seguro de lo que debes hacer.\n",
        "</div>"
      ]
    },
    {
      "cell_type": "code",
      "execution_count": 32,
      "metadata": {
        "id": "3sR7lW2rktIV",
        "colab": {
          "base_uri": "https://localhost:8080/",
          "height": 1000
        },
        "outputId": "4570abd4-25c0-4741-95d2-be59212ba039"
      },
      "outputs": [
        {
          "output_type": "stream",
          "name": "stdout",
          "text": [
            "Epoch 1/30\n",
            "313/313 - 5s - loss: 1.8506 - accuracy: 0.3737 - val_loss: 1.8568 - val_accuracy: 0.3644 - 5s/epoch - 15ms/step\n",
            "Epoch 2/30\n",
            "313/313 - 3s - loss: 1.8469 - accuracy: 0.3754 - val_loss: 1.8533 - val_accuracy: 0.3655 - 3s/epoch - 9ms/step\n",
            "Epoch 3/30\n",
            "313/313 - 3s - loss: 1.8434 - accuracy: 0.3756 - val_loss: 1.8504 - val_accuracy: 0.3652 - 3s/epoch - 10ms/step\n",
            "Epoch 4/30\n",
            "313/313 - 3s - loss: 1.8399 - accuracy: 0.3771 - val_loss: 1.8471 - val_accuracy: 0.3689 - 3s/epoch - 10ms/step\n",
            "Epoch 5/30\n",
            "313/313 - 3s - loss: 1.8364 - accuracy: 0.3794 - val_loss: 1.8436 - val_accuracy: 0.3682 - 3s/epoch - 9ms/step\n",
            "Epoch 6/30\n",
            "313/313 - 3s - loss: 1.8331 - accuracy: 0.3798 - val_loss: 1.8406 - val_accuracy: 0.3694 - 3s/epoch - 9ms/step\n",
            "Epoch 7/30\n",
            "313/313 - 3s - loss: 1.8298 - accuracy: 0.3803 - val_loss: 1.8374 - val_accuracy: 0.3710 - 3s/epoch - 11ms/step\n",
            "Epoch 8/30\n",
            "313/313 - 3s - loss: 1.8265 - accuracy: 0.3822 - val_loss: 1.8344 - val_accuracy: 0.3708 - 3s/epoch - 9ms/step\n",
            "Epoch 9/30\n",
            "313/313 - 3s - loss: 1.8233 - accuracy: 0.3832 - val_loss: 1.8313 - val_accuracy: 0.3717 - 3s/epoch - 9ms/step\n",
            "Epoch 10/30\n",
            "313/313 - 3s - loss: 1.8201 - accuracy: 0.3838 - val_loss: 1.8282 - val_accuracy: 0.3740 - 3s/epoch - 9ms/step\n",
            "Epoch 11/30\n",
            "313/313 - 3s - loss: 1.8171 - accuracy: 0.3847 - val_loss: 1.8253 - val_accuracy: 0.3737 - 3s/epoch - 10ms/step\n",
            "Epoch 12/30\n",
            "313/313 - 3s - loss: 1.8140 - accuracy: 0.3858 - val_loss: 1.8221 - val_accuracy: 0.3752 - 3s/epoch - 10ms/step\n",
            "Epoch 13/30\n",
            "313/313 - 3s - loss: 1.8109 - accuracy: 0.3858 - val_loss: 1.8195 - val_accuracy: 0.3761 - 3s/epoch - 9ms/step\n",
            "Epoch 14/30\n",
            "313/313 - 3s - loss: 1.8079 - accuracy: 0.3875 - val_loss: 1.8165 - val_accuracy: 0.3773 - 3s/epoch - 10ms/step\n",
            "Epoch 15/30\n",
            "313/313 - 3s - loss: 1.8050 - accuracy: 0.3879 - val_loss: 1.8138 - val_accuracy: 0.3779 - 3s/epoch - 10ms/step\n",
            "Epoch 16/30\n",
            "313/313 - 3s - loss: 1.8020 - accuracy: 0.3887 - val_loss: 1.8115 - val_accuracy: 0.3795 - 3s/epoch - 11ms/step\n",
            "Epoch 17/30\n",
            "313/313 - 3s - loss: 1.7991 - accuracy: 0.3897 - val_loss: 1.8082 - val_accuracy: 0.3798 - 3s/epoch - 10ms/step\n",
            "Epoch 18/30\n",
            "313/313 - 3s - loss: 1.7962 - accuracy: 0.3908 - val_loss: 1.8055 - val_accuracy: 0.3798 - 3s/epoch - 10ms/step\n",
            "Epoch 19/30\n",
            "313/313 - 3s - loss: 1.7936 - accuracy: 0.3914 - val_loss: 1.8027 - val_accuracy: 0.3816 - 3s/epoch - 11ms/step\n",
            "Epoch 20/30\n",
            "313/313 - 3s - loss: 1.7908 - accuracy: 0.3923 - val_loss: 1.8005 - val_accuracy: 0.3819 - 3s/epoch - 10ms/step\n",
            "Epoch 21/30\n",
            "313/313 - 3s - loss: 1.7880 - accuracy: 0.3931 - val_loss: 1.7983 - val_accuracy: 0.3831 - 3s/epoch - 9ms/step\n",
            "Epoch 22/30\n",
            "313/313 - 3s - loss: 1.7853 - accuracy: 0.3943 - val_loss: 1.7952 - val_accuracy: 0.3851 - 3s/epoch - 9ms/step\n",
            "Epoch 23/30\n",
            "313/313 - 3s - loss: 1.7826 - accuracy: 0.3943 - val_loss: 1.7929 - val_accuracy: 0.3858 - 3s/epoch - 11ms/step\n",
            "Epoch 24/30\n",
            "313/313 - 3s - loss: 1.7800 - accuracy: 0.3957 - val_loss: 1.7904 - val_accuracy: 0.3866 - 3s/epoch - 9ms/step\n",
            "Epoch 25/30\n",
            "313/313 - 3s - loss: 1.7774 - accuracy: 0.3963 - val_loss: 1.7878 - val_accuracy: 0.3890 - 3s/epoch - 9ms/step\n",
            "Epoch 26/30\n",
            "313/313 - 3s - loss: 1.7748 - accuracy: 0.3970 - val_loss: 1.7854 - val_accuracy: 0.3888 - 3s/epoch - 10ms/step\n",
            "Epoch 27/30\n",
            "313/313 - 3s - loss: 1.7723 - accuracy: 0.3991 - val_loss: 1.7828 - val_accuracy: 0.3902 - 3s/epoch - 10ms/step\n",
            "Epoch 28/30\n",
            "313/313 - 3s - loss: 1.7698 - accuracy: 0.3988 - val_loss: 1.7806 - val_accuracy: 0.3893 - 3s/epoch - 9ms/step\n",
            "Epoch 29/30\n",
            "313/313 - 3s - loss: 1.7673 - accuracy: 0.4005 - val_loss: 1.7784 - val_accuracy: 0.3914 - 3s/epoch - 10ms/step\n",
            "Epoch 30/30\n",
            "313/313 - 3s - loss: 1.7648 - accuracy: 0.4010 - val_loss: 1.7757 - val_accuracy: 0.3907 - 3s/epoch - 9ms/step\n",
            "================================================================================\n",
            "Assesing Test dataset...\n",
            "================================================================================\n",
            "Test loss: 1.7663681507110596\n",
            "Test accuracy: 0.3982999920845032\n"
          ]
        },
        {
          "output_type": "display_data",
          "data": {
            "text/plain": [
              "<Figure size 640x480 with 1 Axes>"
            ],
            "image/png": "[encoded data removed]"
          },
          "metadata": {}
        }
      ],
      "source": [
        "# Defina los hiperparámetros\n",
        "batch_size = 128\n",
        "epochs = 30\n",
        "\n",
        "### *No* modifique las siguientes líneas ###\n",
        "\n",
        "# Necesitamos compilar nuestro modelo\n",
        "model.compile(loss='categorical_crossentropy',\n",
        "              optimizer='Adadelta',\n",
        "              metrics=['accuracy'])\n",
        "\n",
        "# Entrenar\n",
        "logs = model.fit(x_train, y_train,\n",
        "          batch_size=batch_size,\n",
        "          epochs=epochs,\n",
        "          verbose=2,\n",
        "          validation_split = 0.2,)\n",
        "\n",
        "# Graficar losses y el accuracy\n",
        "fig, ax = plt.subplots(1,1)\n",
        "\n",
        "pd.DataFrame(logs.history).plot(ax=ax)\n",
        "ax.grid(linestyle='dotted')\n",
        "ax.legend()\n",
        "fig.canvas.draw()\n",
        "\n",
        "\n",
        "# Evaluar el rendimiento\n",
        "print('='*80)\n",
        "print('Assesing Test dataset...')\n",
        "print('='*80)\n",
        "\n",
        "score = model.evaluate(x_test, y_test, verbose=0)\n",
        "print('Test loss:', score[0])\n",
        "print('Test accuracy:', score[1])"
      ]
    },
    {
      "cell_type": "code",
      "source": [],
      "metadata": {
        "id": "y94RCb7Nffc9"
      },
      "execution_count": null,
      "outputs": []
    },
    {
      "cell_type": "markdown",
      "metadata": {
        "id": "x8Lm7Ie0ktIV"
      },
      "source": [
        "### Temas de reflexión\n",
        "\n",
        "* ¿Qué modelo funciona mejor?\n",
        "* ¿Qué optimizador funciona mejor?\n",
        "* ¿Existe alguna evidencia de overfitting?\n",
        "* ¿Cómo podemos mejorar aún más el rendimiento?"
      ]
    },
    {
      "cell_type": "markdown",
      "source": [
        "1-El modelo que funciona mejor en esta oportunidad es aquel que realiza el max-pooling, es decir, la red neuronal convolucional que hemos llamado como la función \"net_1()\", ya que, se obtiene una mejor precisión y una menor cantidad de pérdida\n",
        "\n",
        "2-El optimizador que usamos en esta investigación fue el de \"Adadelta\", la cual, es una extensión del algoritmo \"Adagrad\", tal algoritmo está basado en adaptar la tasa de aprendizaje para las variables teniendo en cuenta el gradiente acumulado en cada una de ellas, de forma que a aquellas que acumulan un gradiente acumulado mayor se les aplica una tasa de aprendizaje menor y viceversa, la diferencia es que \"Adadelta\" resuelve las limitaciones del algoritmo \"Adagrad\".\n",
        "\n",
        "3-Es importante recordar que para verificar overfitting y en nuestro caso con un gráfico y valores de pérdida, debemos notar si la pérdida en el conjunto de validación comienza a aumentar mientras en el conjunto de entrenamiento sigue disminuyendo. Respecto a la red neuronal convolucional con max-pooling o también conocida en esta investigación como \"net_1()\" no existe el overfitting durante las 20 épocas, pues, la pérdida del conjunto de validación disminuye constantemente. Por otro lado, la red neuronal convolucional sin max-pooling o también conocida en esta investigación como \"net_2()\" tampoco se ve índices de overfitting durante las 20 épocas, la pérdida del conjunto de validación también disminuye constantemente. Por lo tanto, podemos concluir que en 20 épocas en ambas redes neuronales convolucionales no existe el overfitting.\n",
        "\n",
        "4-Para mejorar el rendimiento en ambas redes realizamos el ajuste de hiperparámetros probando con diferente valores, realizamos preprocesamiento de los datos, también utilizamos un optimizador, reducción de dimensionalidad y aplicamos técnicas de regularización. No obstante, podríamos mejorar el rendimiento quizás adaptando mejor la arquitectura de la red neuronal convolucional, probar con más capas o cambiar el número de unidades de estas capas, cambiar la función de activación, entre otros. Como también podríamos mejorar el rendimiento realizando un análisis de errores para verificar posibles fallas y posibles optimizaciones."
      ],
      "metadata": {
        "id": "khVEHDvZ1Kjl"
      }
    }
  ],
  "metadata": {
    "kernelspec": {
      "display_name": "Python 3",
      "language": "python",
      "name": "python3"
    },
    "language_info": {
      "codemirror_mode": {
        "name": "ipython",
        "version": 3
      },
      "file_extension": ".py",
      "mimetype": "text/x-python",
      "name": "python",
      "nbconvert_exporter": "python",
      "pygments_lexer": "ipython3",
      "version": "3.8.3"
    },
    "colab": {
      "provenance": [],
      "include_colab_link": true
    },
    "accelerator": "GPU",
    "gpuClass": "standard"
  },
  "nbformat": 4,
  "nbformat_minor": 0
}